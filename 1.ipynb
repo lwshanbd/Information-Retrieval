{
 "cells": [
  {
   "cell_type": "code",
   "execution_count": 8,
   "metadata": {
    "pycharm": {
     "is_executing": false
    }
   },
   "outputs": [],
   "source": [
    "import sys\n",
    "from textblob import TextBlob\n",
    "from textblob import Word\n",
    "from collections import defaultdict\n",
    "import nltk\n",
    "postings = defaultdict(dict)"
   ]
  },
  {
   "cell_type": "code",
   "execution_count": 9,
   "metadata": {
    "pycharm": {
     "is_executing": false
    }
   },
   "outputs": [],
   "source": [
    "def makeDict():\n",
    "    global postings\n",
    "    f=open('tweets.txt','r')\n",
    "    x=open('text.txt','w')\n",
    "    for i in f:\n",
    "        #得到text\n",
    "       # i\n",
    "        pr1=i.split(', \"text\": \"')\n",
    "        line=pr1[1].split('\", \"timeStr\"')\n",
    "        text1=line[0]+\"\\n\"\n",
    "        #得到id\n",
    "        pr2 = i.split(', \"tweetId\": \"')\n",
    "        line = pr2[1].split('\", \"errorCode\": \"')\n",
    "        id = line[0]\n",
    "        x.write(id+\" \"+text1.lower())\n",
    "\n",
    "    f.close()\n",
    "    x.close()\n",
    "\n",
    "    f=open('text.txt','r')\n",
    "    x=open('word.txt','w')\n",
    "    dict1=dict()\n",
    "\n",
    "    for line in f:\n",
    "        word=TextBlob(line).words.singularize()\n",
    "        word[0]=Word(word[0])\n",
    "        for i in word[1:]:\n",
    "            #i=Word(i)\n",
    "            if i not in dict1:\n",
    "                dict1[i] = []\n",
    "                dict1[i].append(word[0])\n",
    "            else:\n",
    "                dict1[i].append(word[0])\n",
    "    postings=dict1\n",
    "    x.write(str(dict1))\n"
   ]
  },
  {
   "cell_type": "code",
   "execution_count": 10,
   "metadata": {
    "pycharm": {
     "is_executing": false
    }
   },
   "outputs": [],
   "source": [
    "def merge2_and(term1, term2):\n",
    "    global postings\n",
    "    answer = []\n",
    "    if (term1 not in postings) or (term2 not in postings):\n",
    "        return answer\n",
    "    else:\n",
    "        i = len(postings[term1])\n",
    "        j = len(postings[term2])\n",
    "        x = 0\n",
    "        y = 0\n",
    "        while x < i and y < j:\n",
    "            if postings[term1][x] == postings[term2][y]:\n",
    "                answer.append(postings[term1][x])\n",
    "                x += 1\n",
    "                y += 1\n",
    "            elif postings[term1][x] < postings[term2][y]:\n",
    "                x += 1\n",
    "            else:\n",
    "                y += 1\n",
    "        return answer"
   ]
  },
  {
   "cell_type": "code",
   "execution_count": 11,
   "metadata": {
    "pycharm": {
     "is_executing": false
    }
   },
   "outputs": [
    {
     "data": {
      "text/plain": [
       "'\\n    else:\\n        leng = len(terms)\\n        answer = do_rankSearch(terms)\\n        print(\"[Rank_Score: Tweetid]\")\\n        for (tweetid, score) in answer:\\n            print(str(score / leng) + \": \" + tweetid)\\n\\n'"
      ]
     },
     "execution_count": 11,
     "metadata": {},
     "output_type": "execute_result"
    }
   ],
   "source": [
    "def do_search():\n",
    "    terms = token(input(\"Search query >> \"))\n",
    "    if terms == []:\n",
    "        sys.exit()\n",
    "        # 搜索的结果答案\n",
    "\n",
    "    if len(terms) == 3:\n",
    "        # A and B\n",
    "        if terms[1] == \"and\":\n",
    "            answer = merge2_and(terms[0], terms[2])\n",
    "            print(answer)\n",
    "'''\n",
    "    else:\n",
    "        leng = len(terms)\n",
    "        answer = do_rankSearch(terms)\n",
    "        print(\"[Rank_Score: Tweetid]\")\n",
    "        for (tweetid, score) in answer:\n",
    "            print(str(score / leng) + \": \" + tweetid)\n",
    "\n",
    "'''"
   ]
  },
  {
   "cell_type": "code",
   "execution_count": 12,
   "metadata": {
    "pycharm": {
     "is_executing": false
    }
   },
   "outputs": [],
   "source": [
    "def token(doc):\n",
    "    doc = doc.lower()\n",
    "    terms = TextBlob(doc).words.singularize()\n",
    "\n",
    "    result = []\n",
    "    for word in terms:\n",
    "        expected_str = Word(word)\n",
    "        expected_str = expected_str.lemmatize(\"v\")\n",
    "        result.append(expected_str)\n",
    "    return result\n"
   ]
  },
  {
   "cell_type": "code",
   "execution_count": null,
   "metadata": {
    "pycharm": {
     "is_executing": false
    }
   },
   "outputs": [],
   "source": [
    "def main():\n",
    "    makeDict()\n",
    "    while True:\n",
    "        do_search()\n",
    "\n",
    "\n",
    "if __name__ == \"__main__\":\n",
    "    main()\n"
   ]
  },
  {
   "cell_type": "code",
   "execution_count": null,
   "metadata": {
    "pycharm": {
     "is_executing": false
    }
   },
   "outputs": [],
   "source": []
  },
  {
   "cell_type": "code",
   "execution_count": null,
   "metadata": {
    "pycharm": {
     "is_executing": false
    }
   },
   "outputs": [],
   "source": []
  }
 ],
 "metadata": {
  "kernelspec": {
   "display_name": "Python 3",
   "language": "python",
   "name": "python3"
  },
  "language_info": {
   "codemirror_mode": {
    "name": "ipython",
    "version": 3
   },
   "file_extension": ".py",
   "mimetype": "text/x-python",
   "name": "python",
   "nbconvert_exporter": "python",
   "pygments_lexer": "ipython3",
   "version": "3.7.0"
  },
  "pycharm": {
   "stem_cell": {
    "cell_type": "raw",
    "metadata": {
     "collapsed": false
    },
    "source": [
     "#%\n"
    ]
   }
  },
  "toc": {
   "base_numbering": 1,
   "nav_menu": {},
   "number_sections": true,
   "sideBar": true,
   "skip_h1_title": false,
   "title_cell": "Table of Contents",
   "title_sidebar": "Contents",
   "toc_cell": false,
   "toc_position": {},
   "toc_section_display": true,
   "toc_window_display": false
  }
 },
 "nbformat": 4,
 "nbformat_minor": 1
}
