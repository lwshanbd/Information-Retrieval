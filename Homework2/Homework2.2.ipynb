{
 "cells": [
  {
   "cell_type": "code",
   "execution_count": 1,
   "metadata": {},
   "outputs": [],
   "source": [
    "%matplotlib inline"
   ]
  },
  {
   "cell_type": "markdown",
   "metadata": {},
   "source": [
    "\n",
    "# Clustering text documents using k-means\n",
    "\n",
    "\n",
    "This is an example showing how the scikit-learn can be used to cluster\n",
    "documents by topics using a bag-of-words approach. This example uses\n",
    "a scipy.sparse matrix to store the features instead of standard numpy arrays.\n",
    "\n",
    "Two feature extraction methods can be used in this example:\n",
    "\n",
    "  - TfidfVectorizer uses a in-memory vocabulary (a python dict) to map the most\n",
    "    frequent words to features indices and hence compute a word occurrence\n",
    "    frequency (sparse) matrix. The word frequencies are then reweighted using\n",
    "    the Inverse Document Frequency (IDF) vector collected feature-wise over\n",
    "    the corpus.\n",
    "\n",
    "  - HashingVectorizer hashes word occurrences to a fixed dimensional space,\n",
    "    possibly with collisions. The word count vectors are then normalized to\n",
    "    each have l2-norm equal to one (projected to the euclidean unit-ball) which\n",
    "    seems to be important for k-means to work in high dimensional space.\n",
    "\n",
    "    HashingVectorizer does not provide IDF weighting as this is a stateless\n",
    "    model (the fit method does nothing). When IDF weighting is needed it can\n",
    "    be added by pipelining its output to a TfidfTransformer instance.\n",
    "\n",
    "Two algorithms are demoed: ordinary k-means and its more scalable cousin\n",
    "minibatch k-means.\n",
    "\n",
    "Additionally, latent semantic analysis can also be used to reduce\n",
    "dimensionality and discover latent patterns in the data.\n",
    "\n",
    "It can be noted that k-means (and minibatch k-means) are very sensitive to\n",
    "feature scaling and that in this case the IDF weighting helps improve the\n",
    "quality of the clustering by quite a lot as measured against the \"ground truth\"\n",
    "provided by the class label assignments of the 20 newsgroups dataset.\n",
    "\n",
    "This improvement is not visible in the Silhouette Coefficient which is small\n",
    "for both as this measure seem to suffer from the phenomenon called\n",
    "\"Concentration of Measure\" or \"Curse of Dimensionality\" for high dimensional\n",
    "datasets such as text data. Other measures such as V-measure and Adjusted Rand\n",
    "Index are information theoretic based evaluation scores: as they are only based\n",
    "on cluster assignments rather than distances, hence not affected by the curse\n",
    "of dimensionality.\n",
    "\n",
    "Note: as k-means is optimizing a non-convex objective function, it will likely\n",
    "end up in a local optimum. Several runs with independent random init might be\n",
    "necessary to get a good convergence.\n",
    "\n",
    "\n"
   ]
  },
  {
   "cell_type": "code",
   "execution_count": 2,
   "metadata": {
    "scrolled": true
   },
   "outputs": [
    {
     "name": "stdout",
     "output_type": "stream",
     "text": [
      "Loading 20 newsgroups dataset for categories:\n",
      "['alt.atheism', 'talk.religion.misc', 'comp.graphics', 'sci.space']\n",
      "3387 documents\n",
      "4 categories\n",
      "\n",
      "Extracting features from the training dataset using a sparse vectorizer\n",
      "done in 1.528280s\n",
      "n_samples: 3387, n_features: 10000\n",
      "\n",
      "Clustering sparse data with AgglomerativeClustering(affinity='euclidean', compute_full_tree='auto',\n",
      "                        connectivity=None, distance_threshold=None,\n",
      "                        linkage='ward', memory=None, n_clusters=4,\n",
      "                        pooling_func='deprecated')\n",
      "done in 46.737s\n",
      "\n",
      "NMI: 0.517\n",
      "Homogeneity: 0.517\n",
      "Completeness: 0.601\n",
      "\n"
     ]
    },
    {
     "name": "stderr",
     "output_type": "stream",
     "text": [
      "/root/anaconda3/lib/python3.7/site-packages/sklearn/metrics/cluster/supervised.py:859: FutureWarning: The behavior of NMI will change in version 0.22. To match the behavior of 'v_measure_score', NMI will use average_method='arithmetic' by default.\n",
      "  FutureWarning)\n"
     ]
    }
   ],
   "source": [
    "# Author: Peter Prettenhofer <peter.prettenhofer@gmail.com>\n",
    "#         Lars Buitinck\n",
    "# License: BSD 3 clause\n",
    "from sklearn.datasets import fetch_20newsgroups\n",
    "from sklearn.decomposition import TruncatedSVD\n",
    "from sklearn.feature_extraction.text import TfidfVectorizer\n",
    "from sklearn.feature_extraction.text import HashingVectorizer\n",
    "from sklearn.feature_extraction.text import TfidfTransformer\n",
    "from sklearn.pipeline import make_pipeline\n",
    "from sklearn.preprocessing import Normalizer\n",
    "from sklearn import metrics\n",
    "\n",
    "from sklearn.cluster import KMeans, AffinityPropagation,MeanShift,SpectralClustering,AgglomerativeClustering,DBSCAN\n",
    "\n",
    "import logging\n",
    "from optparse import OptionParser\n",
    "import sys\n",
    "from time import time\n",
    "\n",
    "import numpy as np\n",
    "name=[]\n",
    "NMI=[]\n",
    "Homogeneity=[]\n",
    "Completeness=[]\n",
    "# Display progress logs on stdout\n",
    "logging.basicConfig(level=logging.INFO,\n",
    "                    format='%(asctime)s %(levelname)s %(message)s')\n",
    "\n",
    "# parse commandline arguments\n",
    "op = OptionParser()\n",
    "op.add_option(\"--lsa\",\n",
    "              dest=\"n_components\", type=\"int\",\n",
    "              help=\"Preprocess documents with latent semantic analysis.\")\n",
    "op.add_option(\"--no-minibatch\",\n",
    "              action=\"store_false\", dest=\"minibatch\", default=False,\n",
    "              help=\"Use ordinary k-means algorithm (in batch mode).\")\n",
    "op.add_option(\"--no-idf\",\n",
    "              action=\"store_false\", dest=\"use_idf\", default=True,\n",
    "              help=\"Disable Inverse Document Frequency feature weighting.\")\n",
    "op.add_option(\"--use-hashing\",\n",
    "              action=\"store_true\", default=False,\n",
    "              help=\"Use a hashing feature vectorizer\")\n",
    "op.add_option(\"--n-features\", type=int, default=10000,\n",
    "              help=\"Maximum number of features (dimensions)\"\n",
    "                   \" to extract from text.\")\n",
    "op.add_option(\"--verbose\",\n",
    "              action=\"store_true\", dest=\"verbose\", default=False,\n",
    "              help=\"Print progress reports inside k-means algorithm.\")\n",
    "\n",
    "# print(__doc__)\n",
    "# op.print_help()\n",
    "\n",
    "\n",
    "def is_interactive():\n",
    "    return not hasattr(sys.modules['__main__'], '__file__')\n",
    "\n",
    "\n",
    "# work-around for Jupyter notebook and IPython console\n",
    "argv = [] if is_interactive() else sys.argv[1:]\n",
    "(opts, args) = op.parse_args(argv)\n",
    "if len(args) > 0:\n",
    "    op.error(\"this script takes no arguments.\")\n",
    "    sys.exit(1)\n",
    "\n",
    "\n",
    "# #############################################################################\n",
    "# Load some categories from the training set\n",
    "categories = [\n",
    "    'alt.atheism',\n",
    "    'talk.religion.misc',\n",
    "    'comp.graphics',\n",
    "    'sci.space',\n",
    "]\n",
    "# Uncomment the following to do the analysis on all the categories\n",
    "# categories = None\n",
    "\n",
    "print(\"Loading 20 newsgroups dataset for categories:\")\n",
    "print(categories)\n",
    "\n",
    "dataset = fetch_20newsgroups(subset='all', categories=categories,\n",
    "                             shuffle=True, random_state=42)\n",
    "\n",
    "print(\"%d documents\" % len(dataset.data))\n",
    "print(\"%d categories\" % len(dataset.target_names))\n",
    "print()\n",
    "\n",
    "labels = dataset.target\n",
    "true_k = np.unique(labels).shape[0]\n",
    "\n",
    "print(\"Extracting features from the training dataset \"\n",
    "      \"using a sparse vectorizer\")\n",
    "t0 = time()\n",
    "if opts.use_hashing:\n",
    "    if opts.use_idf:\n",
    "        # Perform an IDF normalization on the output of HashingVectorizer\n",
    "        hasher = HashingVectorizer(n_features=opts.n_features,\n",
    "                                   stop_words='english', alternate_sign=False,\n",
    "                                   norm=None, binary=False)\n",
    "        vectorizer = make_pipeline(hasher, TfidfTransformer())\n",
    "    else:\n",
    "        vectorizer = HashingVectorizer(n_features=opts.n_features,\n",
    "                                       stop_words='english',\n",
    "                                       alternate_sign=False, norm='l2',\n",
    "                                       binary=False)\n",
    "else:\n",
    "    vectorizer = TfidfVectorizer(max_df=0.5, max_features=opts.n_features,\n",
    "                                 min_df=2, stop_words='english',\n",
    "                                 use_idf=opts.use_idf)\n",
    "X = vectorizer.fit_transform(dataset.data)\n",
    "\n",
    "print(\"done in %fs\" % (time() - t0))\n",
    "print(\"n_samples: %d, n_features: %d\" % X.shape)\n",
    "print()\n",
    "\n",
    "if opts.n_components:\n",
    "    print(\"Performing dimensionality reduction using LSA\")\n",
    "    t0 = time()\n",
    "    # Vectorizer results are normalized, which makes KMeans behave as\n",
    "    # spherical k-means for better results. Since LSA/SVD results are\n",
    "    # not normalized, we have to redo the normalization.\n",
    "    svd = TruncatedSVD(opts.n_components)\n",
    "    normalizer = Normalizer(copy=False)\n",
    "    lsa = make_pipeline(svd, normalizer)\n",
    "\n",
    "    X = lsa.fit_transform(X)\n",
    "\n",
    "    print(\"done in %fs\" % (time() - t0))\n",
    "\n",
    "    explained_variance = svd.explained_variance_ratio_.sum()\n",
    "    print(\"Explained variance of the SVD step: {}%\".format(\n",
    "        int(explained_variance * 100)))\n",
    "\n",
    "    print()\n",
    "\n",
    "\n",
    "# #############################################################################\n",
    "# Do the actual clustering\n",
    "\n",
    "if opts.minibatch:\n",
    "    km = MiniBatchKMeans(n_clusters=true_k, init='k-means++', n_init=1,\n",
    "                         init_size=1000, batch_size=1000, verbose=opts.verbose)\n",
    "else:\n",
    "    km = AffinityPropagation(convergence_iter=20)\n",
    "    km = AgglomerativeClustering(\n",
    "        n_clusters=true_k, linkage='ward', connectivity=None)\n",
    "    # km = KMeans(n_clusters=true_k, init='k-means++', max_iter=100, n_init=1,\n",
    "    # verbose=opts.verbose)\n",
    "\n",
    "print(\"Clustering sparse data with %s\" % km)\n",
    "t0 = time()\n",
    "X=X.toarray() \n",
    "km.fit(X)\n",
    "#print(km.cluster_centers_)\n",
    "print(\"done in %0.3fs\" % (time() - t0))\n",
    "print()\n",
    "#metrics.normalized_mutual_info_score(labels_true, labels_pred)\n",
    "print(\"NMI: %0.3f\" % metrics.homogeneity_score(labels, km.labels_))\n",
    "print(\"Homogeneity: %0.3f\" % metrics.homogeneity_score(labels, km.labels_))\n",
    "print(\"Completeness: %0.3f\" % metrics.completeness_score(labels, km.labels_))\n",
    "name.append('AgglomerativeClustering')\n",
    "NMI.append(metrics.normalized_mutual_info_score(labels, km.labels_))\n",
    "Homogeneity.append(metrics.homogeneity_score(labels, km.labels_))\n",
    "Completeness.append(metrics.completeness_score(labels, km.labels_))\n",
    "\n",
    "print()\n"
   ]
  },
  {
   "cell_type": "code",
   "execution_count": 4,
   "metadata": {},
   "outputs": [
    {
     "name": "stdout",
     "output_type": "stream",
     "text": [
      "Clustering sparse data with KMeans(algorithm='auto', copy_x=True, init='k-means++', max_iter=100,\n",
      "       n_clusters=4, n_init=1, n_jobs=None, precompute_distances='auto',\n",
      "       random_state=None, tol=0.0001, verbose=False)\n",
      "done in 4.138s\n",
      "\n",
      "NMI: 0.426\n",
      "Homogeneity: 0.426\n",
      "Completeness: 0.529\n",
      "\n"
     ]
    },
    {
     "name": "stderr",
     "output_type": "stream",
     "text": [
      "/root/anaconda3/lib/python3.7/site-packages/sklearn/metrics/cluster/supervised.py:859: FutureWarning: The behavior of NMI will change in version 0.22. To match the behavior of 'v_measure_score', NMI will use average_method='arithmetic' by default.\n",
      "  FutureWarning)\n"
     ]
    }
   ],
   "source": [
    "\n",
    "km = KMeans(n_clusters=true_k, init='k-means++', max_iter=100, n_init=1,\n",
    "            verbose=opts.verbose)\n",
    "\n",
    "print(\"Clustering sparse data with %s\" % km)\n",
    "t0 = time()\n",
    "km.fit(X)\n",
    "#print(km.cluster_centers_)\n",
    "print(\"done in %0.3fs\" % (time() - t0))\n",
    "print()\n",
    "#metrics.normalized_mutual_info_score(labels_true, labels_pred)\n",
    "print(\"NMI: %0.3f\" % metrics.homogeneity_score(labels, km.labels_))\n",
    "print(\"Homogeneity: %0.3f\" % metrics.homogeneity_score(labels, km.labels_))\n",
    "print(\"Completeness: %0.3f\" % metrics.completeness_score(labels, km.labels_))\n",
    "name.append('KMeans')\n",
    "NMI.append(metrics.normalized_mutual_info_score(labels, km.labels_))\n",
    "Homogeneity.append(metrics.homogeneity_score(labels, km.labels_))\n",
    "Completeness.append(metrics.completeness_score(labels, km.labels_))\n",
    "\n",
    "print()"
   ]
  },
  {
   "cell_type": "code",
   "execution_count": 5,
   "metadata": {},
   "outputs": [
    {
     "name": "stdout",
     "output_type": "stream",
     "text": [
      "Clustering sparse data with AffinityPropagation(affinity='euclidean', convergence_iter=20, copy=True,\n",
      "                    damping=0.5, max_iter=200, preference=None, verbose=False)\n",
      "done in 11.870s\n",
      "\n",
      "NMI: 0.885\n",
      "Homogeneity: 0.885\n",
      "Completeness: 0.191\n",
      "\n"
     ]
    },
    {
     "name": "stderr",
     "output_type": "stream",
     "text": [
      "/root/anaconda3/lib/python3.7/site-packages/sklearn/metrics/cluster/supervised.py:859: FutureWarning: The behavior of NMI will change in version 0.22. To match the behavior of 'v_measure_score', NMI will use average_method='arithmetic' by default.\n",
      "  FutureWarning)\n"
     ]
    }
   ],
   "source": [
    "km = AffinityPropagation(convergence_iter=20)\n",
    "\n",
    "print(\"Clustering sparse data with %s\" % km)\n",
    "t0 = time()\n",
    "km.fit(X)\n",
    "#print(km.cluster_centers_)\n",
    "print(\"done in %0.3fs\" % (time() - t0))\n",
    "print()\n",
    "#metrics.normalized_mutual_info_score(labels_true, labels_pred)\n",
    "print(\"NMI: %0.3f\" % metrics.normalized_mutual_info_score(labels, km.labels_))\n",
    "print(\"Homogeneity: %0.3f\" % metrics.homogeneity_score(labels, km.labels_))\n",
    "print(\"Completeness: %0.3f\" % metrics.completeness_score(labels, km.labels_))\n",
    "name.append('AffinityPropagation')\n",
    "NMI.append(metrics.normalized_mutual_info_score(labels, km.labels_))\n",
    "Homogeneity.append(metrics.homogeneity_score(labels, km.labels_))\n",
    "Completeness.append(metrics.completeness_score(labels, km.labels_))\n",
    "\n",
    "print()"
   ]
  },
  {
   "cell_type": "code",
   "execution_count": 7,
   "metadata": {},
   "outputs": [
    {
     "name": "stdout",
     "output_type": "stream",
     "text": [
      "Clustering sparse data with AgglomerativeClustering(affinity='euclidean', compute_full_tree='auto',\n",
      "                        connectivity=None, distance_threshold=None,\n",
      "                        linkage='ward', memory=None, n_clusters=4,\n",
      "                        pooling_func='deprecated')\n",
      "done in 49.256s\n",
      "\n",
      "NMI: 0.557\n",
      "Homogeneity: 0.517\n",
      "Completeness: 0.601\n",
      "\n"
     ]
    },
    {
     "name": "stderr",
     "output_type": "stream",
     "text": [
      "/root/anaconda3/lib/python3.7/site-packages/sklearn/metrics/cluster/supervised.py:859: FutureWarning: The behavior of NMI will change in version 0.22. To match the behavior of 'v_measure_score', NMI will use average_method='arithmetic' by default.\n",
      "  FutureWarning)\n"
     ]
    }
   ],
   "source": [
    "km = AgglomerativeClustering(n_clusters=4, linkage='ward',connectivity=None)\n",
    "\n",
    "print(\"Clustering sparse data with %s\" % km)\n",
    "t0 = time()\n",
    "km.fit(X)\n",
    "#print(km.cluster_centers_)\n",
    "print(\"done in %0.3fs\" % (time() - t0))\n",
    "print()\n",
    "#metrics.normalized_mutual_info_score(labels_true, labels_pred)\n",
    "print(\"NMI: %0.3f\" % metrics.normalized_mutual_info_score(labels, km.labels_))\n",
    "print(\"Homogeneity: %0.3f\" % metrics.homogeneity_score(labels, km.labels_))\n",
    "print(\"Completeness: %0.3f\" % metrics.completeness_score(labels, km.labels_))\n",
    "name.append('Ward hierarchical clustering')\n",
    "NMI.append(metrics.normalized_mutual_info_score(labels, km.labels_))\n",
    "Homogeneity.append(metrics.homogeneity_score(labels, km.labels_))\n",
    "Completeness.append(metrics.completeness_score(labels, km.labels_))\n",
    "\n",
    "print()"
   ]
  },
  {
   "cell_type": "code",
   "execution_count": 9,
   "metadata": {},
   "outputs": [
    {
     "name": "stdout",
     "output_type": "stream",
     "text": [
      "Clustering sparse data with AgglomerativeClustering(affinity='euclidean', compute_full_tree='auto',\n",
      "                        connectivity=None, distance_threshold=None,\n",
      "                        linkage='complete', memory=None, n_clusters=4,\n",
      "                        pooling_func='deprecated')\n",
      "done in 47.260s\n",
      "\n",
      "NMI: 0.066\n",
      "Homogeneity: 0.064\n",
      "Completeness: 0.068\n",
      "\n"
     ]
    },
    {
     "name": "stderr",
     "output_type": "stream",
     "text": [
      "/root/anaconda3/lib/python3.7/site-packages/sklearn/metrics/cluster/supervised.py:859: FutureWarning: The behavior of NMI will change in version 0.22. To match the behavior of 'v_measure_score', NMI will use average_method='arithmetic' by default.\n",
      "  FutureWarning)\n"
     ]
    }
   ],
   "source": [
    "km = AgglomerativeClustering(n_clusters=4, linkage='complete',connectivity=None)\n",
    "\n",
    "print(\"Clustering sparse data with %s\" % km)\n",
    "t0 = time()\n",
    "km.fit(X)\n",
    "#print(km.cluster_centers_)\n",
    "print(\"done in %0.3fs\" % (time() - t0))\n",
    "print()\n",
    "#metrics.normalized_mutual_info_score(labels_true, labels_pred)\n",
    "print(\"NMI: %0.3f\" % metrics.normalized_mutual_info_score(labels, km.labels_))\n",
    "print(\"Homogeneity: %0.3f\" % metrics.homogeneity_score(labels, km.labels_))\n",
    "print(\"Completeness: %0.3f\" % metrics.completeness_score(labels, km.labels_))\n",
    "name.append('AgglomerativeClustering')\n",
    "NMI.append(metrics.normalized_mutual_info_score(labels, km.labels_))\n",
    "Homogeneity.append(metrics.homogeneity_score(labels, km.labels_))\n",
    "Completeness.append(metrics.completeness_score(labels, km.labels_))\n",
    "\n",
    "print()"
   ]
  },
  {
   "cell_type": "code",
   "execution_count": 10,
   "metadata": {},
   "outputs": [
    {
     "name": "stdout",
     "output_type": "stream",
     "text": [
      "Clustering sparse data with DBSCAN(algorithm='auto', eps=5, leaf_size=30, metric='euclidean',\n",
      "       metric_params=None, min_samples=3, n_jobs=None, p=None)\n",
      "done in 295.972s\n",
      "\n",
      "NMI: 0.000\n",
      "Homogeneity: 0.000\n",
      "Completeness: 1.000\n",
      "\n"
     ]
    },
    {
     "name": "stderr",
     "output_type": "stream",
     "text": [
      "/root/anaconda3/lib/python3.7/site-packages/sklearn/metrics/cluster/supervised.py:859: FutureWarning: The behavior of NMI will change in version 0.22. To match the behavior of 'v_measure_score', NMI will use average_method='arithmetic' by default.\n",
      "  FutureWarning)\n"
     ]
    }
   ],
   "source": [
    "km = DBSCAN(eps=5, min_samples=3)\n",
    "\n",
    "print(\"Clustering sparse data with %s\" % km)\n",
    "t0 = time()\n",
    "km.fit(X)\n",
    "#print(km.cluster_centers_)\n",
    "print(\"done in %0.3fs\" % (time() - t0))\n",
    "print()\n",
    "#metrics.normalized_mutual_info_score(labels_true, labels_pred)\n",
    "print(\"NMI: %0.3f\" % metrics.normalized_mutual_info_score(labels, km.labels_))\n",
    "print(\"Homogeneity: %0.3f\" % metrics.homogeneity_score(labels, km.labels_))\n",
    "print(\"Completeness: %0.3f\" % metrics.completeness_score(labels, km.labels_))\n",
    "name.append('DBSCAN')\n",
    "NMI.append(metrics.normalized_mutual_info_score(labels, km.labels_))\n",
    "Homogeneity.append(metrics.homogeneity_score(labels, km.labels_))\n",
    "Completeness.append(metrics.completeness_score(labels, km.labels_))\n",
    "\n",
    "print()"
   ]
  },
  {
   "cell_type": "code",
   "execution_count": 3,
   "metadata": {},
   "outputs": [
    {
     "name": "stdout",
     "output_type": "stream",
     "text": [
      "Clustering sparse data with GaussianMixture(covariance_type='full', init_params='kmeans', max_iter=100,\n",
      "                means_init=None, n_components=4, n_init=1, precisions_init=None,\n",
      "                random_state=None, reg_covar=1e-06, tol=0.001, verbose=0,\n",
      "                verbose_interval=10, warm_start=False, weights_init=None)\n",
      "done in 181.503s\n",
      "\n"
     ]
    },
    {
     "name": "stderr",
     "output_type": "stream",
     "text": [
      "/root/anaconda3/lib/python3.7/site-packages/sklearn/metrics/cluster/supervised.py:859: FutureWarning: The behavior of NMI will change in version 0.22. To match the behavior of 'v_measure_score', NMI will use average_method='arithmetic' by default.\n",
      "  FutureWarning)\n"
     ]
    },
    {
     "name": "stdout",
     "output_type": "stream",
     "text": [
      "NMI: 0.569\n",
      "Homogeneity: 0.534\n",
      "Completeness: 0.607\n"
     ]
    },
    {
     "name": "stderr",
     "output_type": "stream",
     "text": [
      "/root/anaconda3/lib/python3.7/site-packages/sklearn/metrics/cluster/supervised.py:859: FutureWarning: The behavior of NMI will change in version 0.22. To match the behavior of 'v_measure_score', NMI will use average_method='arithmetic' by default.\n",
      "  FutureWarning)\n"
     ]
    },
    {
     "name": "stdout",
     "output_type": "stream",
     "text": [
      "\n"
     ]
    }
   ],
   "source": [
    "from sklearn import mixture\n",
    "km = mixture.GaussianMixture(n_components=4, covariance_type='full')\n",
    "\n",
    "print(\"Clustering sparse data with %s\" % km)\n",
    "t0 = time()\n",
    "km.fit(X)\n",
    "#print(km.cluster_centers_)\n",
    "print(\"done in %0.3fs\" % (time() - t0))\n",
    "print()\n",
    "#metrics.normalized_mutual_info_score(labels_true, labels_pred)\n",
    "print(\"NMI: %0.3f\" % metrics.normalized_mutual_info_score(labels, km.predict(X)))\n",
    "print(\"Homogeneity: %0.3f\" % metrics.homogeneity_score(labels,km.predict(X)))\n",
    "print(\"Completeness: %0.3f\" % metrics.completeness_score(labels, km.predict(X)))\n",
    "name.append('DBSCAN')\n",
    "NMI.append(metrics.normalized_mutual_info_score(labels, km.predict(X)))\n",
    "Homogeneity.append(metrics.homogeneity_score(labels, km.predict(X)))\n",
    "Completeness.append(metrics.completeness_score(labels, km.predict(X)))\n",
    "\n",
    "print()"
   ]
  },
  {
   "cell_type": "code",
   "execution_count": null,
   "metadata": {},
   "outputs": [],
   "source": []
  },
  {
   "cell_type": "code",
   "execution_count": null,
   "metadata": {},
   "outputs": [],
   "source": []
  },
  {
   "cell_type": "code",
   "execution_count": 18,
   "metadata": {},
   "outputs": [
    {
     "name": "stdout",
     "output_type": "stream",
     "text": [
      "Clustering sparse data with MeanShift(bandwidth=None, bin_seeding=False, cluster_all=True, min_bin_freq=1,\n",
      "          n_jobs=None, seeds=None)\n",
      "done in 3012.098s\n",
      "\n",
      "NMI: 0.000\n",
      "Homogeneity: 0.000\n",
      "Completeness: 1.000\n",
      "\n"
     ]
    },
    {
     "name": "stderr",
     "output_type": "stream",
     "text": [
      "/root/anaconda3/lib/python3.7/site-packages/sklearn/metrics/cluster/supervised.py:859: FutureWarning: The behavior of NMI will change in version 0.22. To match the behavior of 'v_measure_score', NMI will use average_method='arithmetic' by default.\n",
      "  FutureWarning)\n"
     ]
    }
   ],
   "source": [
    "km = MeanShift()\n",
    "\n",
    "print(\"Clustering sparse data with %s\" % km)\n",
    "t0 = time()\n",
    "km.fit(X)\n",
    "#print(km.cluster_centers_)\n",
    "print(\"done in %0.3fs\" % (time() - t0))\n",
    "print()\n",
    "#metrics.normalized_mutual_info_score(labels_true, labels_pred)\n",
    "print(\"NMI: %0.3f\" % metrics.homogeneity_score(labels, km.labels_))\n",
    "print(\"Homogeneity: %0.3f\" % metrics.homogeneity_score(labels, km.labels_))\n",
    "print(\"Completeness: %0.3f\" % metrics.completeness_score(labels, km.labels_))\n",
    "name.append('MeanShift')\n",
    "NMI.append(metrics.normalized_mutual_info_score(labels, km.labels_))\n",
    "Homogeneity.append(metrics.homogeneity_score(labels, km.labels_))\n",
    "Completeness.append(metrics.completeness_score(labels, km.labels_))\n",
    "\n",
    "print()"
   ]
  },
  {
   "cell_type": "code",
   "execution_count": null,
   "metadata": {},
   "outputs": [],
   "source": []
  }
 ],
 "metadata": {
  "kernelspec": {
   "display_name": "Python 3",
   "language": "python",
   "name": "python3"
  },
  "language_info": {
   "codemirror_mode": {
    "name": "ipython",
    "version": 3
   },
   "file_extension": ".py",
   "mimetype": "text/x-python",
   "name": "python",
   "nbconvert_exporter": "python",
   "pygments_lexer": "ipython3",
   "version": "3.7.3"
  },
  "toc": {
   "base_numbering": 1,
   "nav_menu": {},
   "number_sections": true,
   "sideBar": true,
   "skip_h1_title": false,
   "title_cell": "Table of Contents",
   "title_sidebar": "Contents",
   "toc_cell": false,
   "toc_position": {},
   "toc_section_display": true,
   "toc_window_display": false
  }
 },
 "nbformat": 4,
 "nbformat_minor": 1
}
